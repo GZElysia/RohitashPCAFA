{
 "cells": [
  {
   "cell_type": "code",
   "execution_count": 37,
   "id": "e662b9ed",
   "metadata": {},
   "outputs": [
    {
     "name": "stdout",
     "output_type": "stream",
     "text": [
      "Requirement already satisfied: factor-analyzer in d:\\users\\57176\\anaconda3\\lib\\site-packages (0.5.1)\n",
      "Requirement already satisfied: scipy in d:\\users\\57176\\anaconda3\\lib\\site-packages (from factor-analyzer) (1.13.1)\n",
      "Requirement already satisfied: numpy in d:\\users\\57176\\anaconda3\\lib\\site-packages (from factor-analyzer) (1.26.0)\n",
      "Requirement already satisfied: scikit-learn in d:\\users\\57176\\anaconda3\\lib\\site-packages (from factor-analyzer) (1.6.1)\n",
      "Requirement already satisfied: pandas in d:\\users\\57176\\anaconda3\\lib\\site-packages (from factor-analyzer) (1.3.5)\n",
      "Requirement already satisfied: pytz>=2017.3 in d:\\users\\57176\\anaconda3\\lib\\site-packages (from pandas->factor-analyzer) (2022.1)\n",
      "Requirement already satisfied: python-dateutil>=2.7.3 in d:\\users\\57176\\anaconda3\\lib\\site-packages (from pandas->factor-analyzer) (2.8.2)\n",
      "Requirement already satisfied: joblib>=1.2.0 in d:\\users\\57176\\anaconda3\\lib\\site-packages (from scikit-learn->factor-analyzer) (1.5.1)\n",
      "Requirement already satisfied: threadpoolctl>=3.1.0 in d:\\users\\57176\\anaconda3\\lib\\site-packages (from scikit-learn->factor-analyzer) (3.6.0)\n",
      "Requirement already satisfied: six>=1.5 in d:\\users\\57176\\anaconda3\\lib\\site-packages (from python-dateutil>=2.7.3->pandas->factor-analyzer) (1.16.0)\n",
      "Note: you may need to restart the kernel to use updated packages.\n"
     ]
    }
   ],
   "source": [
    "pip install factor-analyzer"
   ]
  },
  {
   "cell_type": "code",
   "execution_count": 38,
   "id": "e1de2d82",
   "metadata": {},
   "outputs": [],
   "source": [
    "import pandas as pd\n",
    "from sklearn.decomposition import PCA\n",
    "import matplotlib.pyplot as plt\n",
    "import scipy.stats as stats\n",
    "from sklearn.preprocessing import StandardScaler\n",
    "from factor_analyzer.factor_analyzer import calculate_kmo\n",
    "from sklearn.decomposition import FactorAnalysis"
   ]
  },
  {
   "cell_type": "markdown",
   "id": "a240a9aa",
   "metadata": {},
   "source": [
    "### Implementing PCA"
   ]
  },
  {
   "cell_type": "code",
   "execution_count": 39,
   "id": "849b8653",
   "metadata": {},
   "outputs": [],
   "source": [
    "data = pd.read_csv(\"imputed_data_Economic.csv\")\n",
    "numeric_data = data.drop(columns=['Country', 'Year'])\n",
    "numeric_data = numeric_data.dropna()\n",
    "\n",
    "numeric_data_standardized = (numeric_data - numeric_data.mean()) / numeric_data.std()"
   ]
  },
  {
   "cell_type": "code",
   "execution_count": 40,
   "id": "4e6229dc",
   "metadata": {},
   "outputs": [
    {
     "data": {
      "text/html": [
       "<div>\n",
       "<style scoped>\n",
       "    .dataframe tbody tr th:only-of-type {\n",
       "        vertical-align: middle;\n",
       "    }\n",
       "\n",
       "    .dataframe tbody tr th {\n",
       "        vertical-align: top;\n",
       "    }\n",
       "\n",
       "    .dataframe thead th {\n",
       "        text-align: right;\n",
       "    }\n",
       "</style>\n",
       "<table border=\"1\" class=\"dataframe\">\n",
       "  <thead>\n",
       "    <tr style=\"text-align: right;\">\n",
       "      <th></th>\n",
       "      <th>Year</th>\n",
       "      <th>Country</th>\n",
       "      <th>Inflation_Rate</th>\n",
       "      <th>GDP_Per_Capita</th>\n",
       "      <th>GDP_Growth_Rate</th>\n",
       "      <th>Unemployment_Rate</th>\n",
       "      <th>Cost of Living Index</th>\n",
       "      <th>Local Purchasing Power Index</th>\n",
       "    </tr>\n",
       "  </thead>\n",
       "  <tbody>\n",
       "    <tr>\n",
       "      <th>0</th>\n",
       "      <td>1970</td>\n",
       "      <td>Africa Eastern and Southern</td>\n",
       "      <td>10.328049</td>\n",
       "      <td>253.382370</td>\n",
       "      <td>1.137276</td>\n",
       "      <td>5.175244</td>\n",
       "      <td>32.637046</td>\n",
       "      <td>27.920171</td>\n",
       "    </tr>\n",
       "    <tr>\n",
       "      <th>1</th>\n",
       "      <td>1970</td>\n",
       "      <td>Africa Western and Central</td>\n",
       "      <td>4.635119</td>\n",
       "      <td>219.865368</td>\n",
       "      <td>17.566412</td>\n",
       "      <td>4.103713</td>\n",
       "      <td>39.186194</td>\n",
       "      <td>29.333842</td>\n",
       "    </tr>\n",
       "    <tr>\n",
       "      <th>2</th>\n",
       "      <td>1970</td>\n",
       "      <td>Arab World</td>\n",
       "      <td>5.656457</td>\n",
       "      <td>351.870854</td>\n",
       "      <td>22.320438</td>\n",
       "      <td>4.089240</td>\n",
       "      <td>39.112031</td>\n",
       "      <td>30.445710</td>\n",
       "    </tr>\n",
       "    <tr>\n",
       "      <th>3</th>\n",
       "      <td>1970</td>\n",
       "      <td>Argentina</td>\n",
       "      <td>23.317391</td>\n",
       "      <td>7948.212149</td>\n",
       "      <td>3.045643</td>\n",
       "      <td>5.117697</td>\n",
       "      <td>41.855355</td>\n",
       "      <td>36.705539</td>\n",
       "    </tr>\n",
       "    <tr>\n",
       "      <th>4</th>\n",
       "      <td>1970</td>\n",
       "      <td>Australia</td>\n",
       "      <td>3.439153</td>\n",
       "      <td>3304.837820</td>\n",
       "      <td>7.175799</td>\n",
       "      <td>3.839744</td>\n",
       "      <td>42.710569</td>\n",
       "      <td>32.335829</td>\n",
       "    </tr>\n",
       "  </tbody>\n",
       "</table>\n",
       "</div>"
      ],
      "text/plain": [
       "   Year                      Country  Inflation_Rate  GDP_Per_Capita  \\\n",
       "0  1970  Africa Eastern and Southern       10.328049      253.382370   \n",
       "1  1970   Africa Western and Central        4.635119      219.865368   \n",
       "2  1970                   Arab World        5.656457      351.870854   \n",
       "3  1970                    Argentina       23.317391     7948.212149   \n",
       "4  1970                    Australia        3.439153     3304.837820   \n",
       "\n",
       "   GDP_Growth_Rate  Unemployment_Rate  Cost of Living Index  \\\n",
       "0         1.137276           5.175244             32.637046   \n",
       "1        17.566412           4.103713             39.186194   \n",
       "2        22.320438           4.089240             39.112031   \n",
       "3         3.045643           5.117697             41.855355   \n",
       "4         7.175799           3.839744             42.710569   \n",
       "\n",
       "   Local Purchasing Power Index  \n",
       "0                     27.920171  \n",
       "1                     29.333842  \n",
       "2                     30.445710  \n",
       "3                     36.705539  \n",
       "4                     32.335829  "
      ]
     },
     "execution_count": 40,
     "metadata": {},
     "output_type": "execute_result"
    }
   ],
   "source": [
    "data.head()"
   ]
  },
  {
   "cell_type": "code",
   "execution_count": 48,
   "id": "227aa79b",
   "metadata": {},
   "outputs": [
    {
     "data": {
      "text/html": [
       "<div>\n",
       "<style scoped>\n",
       "    .dataframe tbody tr th:only-of-type {\n",
       "        vertical-align: middle;\n",
       "    }\n",
       "\n",
       "    .dataframe tbody tr th {\n",
       "        vertical-align: top;\n",
       "    }\n",
       "\n",
       "    .dataframe thead th {\n",
       "        text-align: right;\n",
       "    }\n",
       "</style>\n",
       "<table border=\"1\" class=\"dataframe\">\n",
       "  <thead>\n",
       "    <tr style=\"text-align: right;\">\n",
       "      <th></th>\n",
       "      <th>Inflation_Rate</th>\n",
       "      <th>GDP_Per_Capita</th>\n",
       "      <th>GDP_Growth_Rate</th>\n",
       "      <th>Unemployment_Rate</th>\n",
       "      <th>Cost of Living Index</th>\n",
       "      <th>Local Purchasing Power Index</th>\n",
       "    </tr>\n",
       "  </thead>\n",
       "  <tbody>\n",
       "    <tr>\n",
       "      <th>0</th>\n",
       "      <td>-0.039104</td>\n",
       "      <td>-0.537554</td>\n",
       "      <td>-0.395453</td>\n",
       "      <td>-0.282355</td>\n",
       "      <td>-0.889006</td>\n",
       "      <td>-0.559810</td>\n",
       "    </tr>\n",
       "    <tr>\n",
       "      <th>1</th>\n",
       "      <td>-0.058029</td>\n",
       "      <td>-0.539963</td>\n",
       "      <td>2.184315</td>\n",
       "      <td>-0.552798</td>\n",
       "      <td>-0.402080</td>\n",
       "      <td>-0.489831</td>\n",
       "    </tr>\n",
       "    <tr>\n",
       "      <th>2</th>\n",
       "      <td>-0.054634</td>\n",
       "      <td>-0.530474</td>\n",
       "      <td>2.930812</td>\n",
       "      <td>-0.556450</td>\n",
       "      <td>-0.407594</td>\n",
       "      <td>-0.434792</td>\n",
       "    </tr>\n",
       "    <tr>\n",
       "      <th>3</th>\n",
       "      <td>0.004075</td>\n",
       "      <td>0.015615</td>\n",
       "      <td>-0.095794</td>\n",
       "      <td>-0.296879</td>\n",
       "      <td>-0.203629</td>\n",
       "      <td>-0.124920</td>\n",
       "    </tr>\n",
       "    <tr>\n",
       "      <th>4</th>\n",
       "      <td>-0.062004</td>\n",
       "      <td>-0.318189</td>\n",
       "      <td>0.552740</td>\n",
       "      <td>-0.619420</td>\n",
       "      <td>-0.140044</td>\n",
       "      <td>-0.341228</td>\n",
       "    </tr>\n",
       "  </tbody>\n",
       "</table>\n",
       "</div>"
      ],
      "text/plain": [
       "   Inflation_Rate  GDP_Per_Capita  GDP_Growth_Rate  Unemployment_Rate  \\\n",
       "0       -0.039104       -0.537554        -0.395453          -0.282355   \n",
       "1       -0.058029       -0.539963         2.184315          -0.552798   \n",
       "2       -0.054634       -0.530474         2.930812          -0.556450   \n",
       "3        0.004075        0.015615        -0.095794          -0.296879   \n",
       "4       -0.062004       -0.318189         0.552740          -0.619420   \n",
       "\n",
       "   Cost of Living Index  Local Purchasing Power Index  \n",
       "0             -0.889006                     -0.559810  \n",
       "1             -0.402080                     -0.489831  \n",
       "2             -0.407594                     -0.434792  \n",
       "3             -0.203629                     -0.124920  \n",
       "4             -0.140044                     -0.341228  "
      ]
     },
     "execution_count": 48,
     "metadata": {},
     "output_type": "execute_result"
    }
   ],
   "source": [
    "numeric_data_standardized.head()"
   ]
  },
  {
   "cell_type": "code",
   "execution_count": 31,
   "id": "190bf78b",
   "metadata": {},
   "outputs": [
    {
     "name": "stdout",
     "output_type": "stream",
     "text": [
      "PC1: 44.69% variance explained\n",
      "PC2: 18.30% variance explained\n",
      "PC3: 16.72% variance explained\n",
      "PC4: 15.05% variance explained\n",
      "PC5: 3.55% variance explained\n",
      "PC6: 1.69% variance explained\n"
     ]
    }
   ],
   "source": [
    "pca = PCA()\n",
    "pca.fit(numeric_data_standardized)\n",
    "\n",
    "explained_variance_ratio = pca.explained_variance_ratio_\n",
    "eigenvalues = pca.explained_variance_\n",
    "\n",
    "for i, var in enumerate(explained_variance_ratio, start=1):\n",
    "    print(f\"PC{i}: {var * 100:.2f}% variance explained\")"
   ]
  },
  {
   "cell_type": "markdown",
   "id": "fc1109e2",
   "metadata": {},
   "source": [
    "### Factor Analysis"
   ]
  },
  {
   "cell_type": "code",
   "execution_count": 32,
   "id": "bcedcfd3",
   "metadata": {},
   "outputs": [
    {
     "data": {
      "text/plain": [
       "0.7123334687790926"
      ]
     },
     "execution_count": 32,
     "metadata": {},
     "output_type": "execute_result"
    }
   ],
   "source": [
    "scaler = StandardScaler()\n",
    "df_scaled = scaler.fit_transform(numeric_data)\n",
    "\n",
    "kmo_all,kmo_model=calculate_kmo(df_scaled)\n",
    "kmo_model"
   ]
  },
  {
   "cell_type": "code",
   "execution_count": 33,
   "id": "d90ff415",
   "metadata": {},
   "outputs": [
    {
     "name": "stderr",
     "output_type": "stream",
     "text": [
      "D:\\Users\\57176\\anaconda3\\lib\\site-packages\\sklearn\\utils\\deprecation.py:151: FutureWarning: 'force_all_finite' was renamed to 'ensure_all_finite' in 1.6 and will be removed in 1.8.\n",
      "  warnings.warn(\n"
     ]
    },
    {
     "data": {
      "text/plain": [
       "array([2.68139571, 1.09828197, 1.00339167, 0.90285566, 0.21295858,\n",
       "       0.10111642])"
      ]
     },
     "execution_count": 33,
     "metadata": {},
     "output_type": "execute_result"
    }
   ],
   "source": [
    "from factor_analyzer import FactorAnalyzer\n",
    "fa = FactorAnalyzer()\n",
    "fa.fit(df_scaled)\n",
    "eigen_values, vectors = fa.get_eigenvalues()\n",
    "eigen_values"
   ]
  },
  {
   "cell_type": "code",
   "execution_count": 34,
   "id": "6d6829c7",
   "metadata": {},
   "outputs": [
    {
     "data": {
      "image/png": "[encoded data removed]",
      "text/plain": [
       "<Figure size 640x480 with 1 Axes>"
      ]
     },
     "metadata": {},
     "output_type": "display_data"
    }
   ],
   "source": [
    "import matplotlib.pyplot as plt\n",
    "plt.scatter(range(1,df_scaled.shape[1]+1),eigen_values)\n",
    "plt.plot(range(1,df_scaled.shape[1]+1),eigen_values)\n",
    "plt.title('Scree Plot')\n",
    "plt.xlabel('Factors')\n",
    "plt.ylabel('Eigenvalue')\n",
    "plt.show()"
   ]
  },
  {
   "cell_type": "code",
   "execution_count": 53,
   "id": "c2e2535c",
   "metadata": {},
   "outputs": [
    {
     "name": "stdout",
     "output_type": "stream",
     "text": [
      "载荷矩阵：\n",
      "                                Factor1   Factor2\n",
      "Inflation_Rate               -0.023249  0.004989\n",
      "GDP_Per_Capita                0.973022  0.124369\n",
      "GDP_Growth_Rate              -0.041886 -0.116676\n",
      "Unemployment_Rate            -0.094547  0.733210\n",
      "Cost of Living Index          0.867807  0.106040\n",
      "Local Purchasing Power Index  0.861288  0.276010\n"
     ]
    },
    {
     "name": "stderr",
     "output_type": "stream",
     "text": [
      "D:\\Users\\57176\\anaconda3\\lib\\site-packages\\sklearn\\utils\\deprecation.py:151: FutureWarning: 'force_all_finite' was renamed to 'ensure_all_finite' in 1.6 and will be removed in 1.8.\n",
      "  warnings.warn(\n"
     ]
    }
   ],
   "source": [
    "from factor_analyzer import FactorAnalyzer\n",
    "# 因子分析（假设提取2个因子）\n",
    "fa = FactorAnalyzer(n_factors=2, rotation='varimax')\n",
    "fa.fit(numeric_data_standardized)\n",
    "\n",
    "# 获取载荷矩阵\n",
    "loadings = pd.DataFrame(\n",
    "    fa.loadings_,\n",
    "    index=numeric_data_standardized.columns,\n",
    "    columns=['Factor1', 'Factor2']\n",
    ")\n",
    "print(\"载荷矩阵：\\n\", loadings)"
   ]
  },
  {
   "cell_type": "code",
   "execution_count": 47,
   "id": "1176527b",
   "metadata": {},
   "outputs": [],
   "source": [
    "columns_for_fa = [\n",
    "    'Inflation_Rate','GDP_Per_Capita','GDP_Growth_Rate','Unemployment_Rate','Cost of Living Index',\n",
    "    'Local Purchasing Power Index'\n",
    "]\n",
    "data = data.dropna()\n",
    "data_filled = data[columns_for_fa]\n",
    "scaler = StandardScaler()\n",
    "data_scaled = scaler.fit_transform(data_filled)\n",
    "\n",
    "fa = FactorAnalysis(n_components=1)\n",
    "\n",
    "factor_scores = fa.fit_transform(data_scaled)\n",
    "\n",
    "data['Economic_Index_FA'] = factor_scores.round(3)\n",
    "\n",
    "pca = PCA(n_components=1)\n",
    "pca_scores = pca.fit_transform(data_scaled)\n",
    "data['Economic_Index_PCA'] = pca_scores.round(3)\n",
    "\n",
    "data.to_csv(\"Economic_Index.csv\",index=False)"
   ]
  },
  {
   "cell_type": "code",
   "execution_count": 50,
   "id": "dd2dd8e2",
   "metadata": {},
   "outputs": [
    {
     "data": {
      "text/html": [
       "<div>\n",
       "<style scoped>\n",
       "    .dataframe tbody tr th:only-of-type {\n",
       "        vertical-align: middle;\n",
       "    }\n",
       "\n",
       "    .dataframe tbody tr th {\n",
       "        vertical-align: top;\n",
       "    }\n",
       "\n",
       "    .dataframe thead th {\n",
       "        text-align: right;\n",
       "    }\n",
       "</style>\n",
       "<table border=\"1\" class=\"dataframe\">\n",
       "  <thead>\n",
       "    <tr style=\"text-align: right;\">\n",
       "      <th></th>\n",
       "      <th>Inflation_Rate</th>\n",
       "      <th>GDP_Per_Capita</th>\n",
       "      <th>GDP_Growth_Rate</th>\n",
       "      <th>Unemployment_Rate</th>\n",
       "      <th>Cost of Living Index</th>\n",
       "      <th>Local Purchasing Power Index</th>\n",
       "    </tr>\n",
       "  </thead>\n",
       "  <tbody>\n",
       "    <tr>\n",
       "      <th>0</th>\n",
       "      <td>-0.039104</td>\n",
       "      <td>-0.537554</td>\n",
       "      <td>-0.395453</td>\n",
       "      <td>-0.282355</td>\n",
       "      <td>-0.889006</td>\n",
       "      <td>-0.559810</td>\n",
       "    </tr>\n",
       "    <tr>\n",
       "      <th>1</th>\n",
       "      <td>-0.058029</td>\n",
       "      <td>-0.539963</td>\n",
       "      <td>2.184315</td>\n",
       "      <td>-0.552798</td>\n",
       "      <td>-0.402080</td>\n",
       "      <td>-0.489831</td>\n",
       "    </tr>\n",
       "    <tr>\n",
       "      <th>2</th>\n",
       "      <td>-0.054634</td>\n",
       "      <td>-0.530474</td>\n",
       "      <td>2.930812</td>\n",
       "      <td>-0.556450</td>\n",
       "      <td>-0.407594</td>\n",
       "      <td>-0.434792</td>\n",
       "    </tr>\n",
       "    <tr>\n",
       "      <th>3</th>\n",
       "      <td>0.004075</td>\n",
       "      <td>0.015615</td>\n",
       "      <td>-0.095794</td>\n",
       "      <td>-0.296879</td>\n",
       "      <td>-0.203629</td>\n",
       "      <td>-0.124920</td>\n",
       "    </tr>\n",
       "    <tr>\n",
       "      <th>4</th>\n",
       "      <td>-0.062004</td>\n",
       "      <td>-0.318189</td>\n",
       "      <td>0.552740</td>\n",
       "      <td>-0.619420</td>\n",
       "      <td>-0.140044</td>\n",
       "      <td>-0.341228</td>\n",
       "    </tr>\n",
       "  </tbody>\n",
       "</table>\n",
       "</div>"
      ],
      "text/plain": [
       "   Inflation_Rate  GDP_Per_Capita  GDP_Growth_Rate  Unemployment_Rate  \\\n",
       "0       -0.039104       -0.537554        -0.395453          -0.282355   \n",
       "1       -0.058029       -0.539963         2.184315          -0.552798   \n",
       "2       -0.054634       -0.530474         2.930812          -0.556450   \n",
       "3        0.004075        0.015615        -0.095794          -0.296879   \n",
       "4       -0.062004       -0.318189         0.552740          -0.619420   \n",
       "\n",
       "   Cost of Living Index  Local Purchasing Power Index  \n",
       "0             -0.889006                     -0.559810  \n",
       "1             -0.402080                     -0.489831  \n",
       "2             -0.407594                     -0.434792  \n",
       "3             -0.203629                     -0.124920  \n",
       "4             -0.140044                     -0.341228  "
      ]
     },
     "execution_count": 50,
     "metadata": {},
     "output_type": "execute_result"
    }
   ],
   "source": [
    "numeric_data_standardized.head()"
   ]
  }
 ],
 "metadata": {
  "kernelspec": {
   "display_name": "Python 3 (ipykernel)",
   "language": "python",
   "name": "python3"
  },
  "language_info": {
   "codemirror_mode": {
    "name": "ipython",
    "version": 3
   },
   "file_extension": ".py",
   "mimetype": "text/x-python",
   "name": "python",
   "nbconvert_exporter": "python",
   "pygments_lexer": "ipython3",
   "version": "3.9.13"
  }
 },
 "nbformat": 4,
 "nbformat_minor": 5
}
